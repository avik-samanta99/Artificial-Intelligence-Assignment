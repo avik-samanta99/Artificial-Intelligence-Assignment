{
  "nbformat": 4,
  "nbformat_minor": 0,
  "metadata": {
    "colab": {
      "name": "Robot_Localization.ipynb",
      "provenance": [],
      "collapsed_sections": []
    },
    "kernelspec": {
      "name": "python3",
      "display_name": "Python 3"
    }
  },
  "cells": [
    {
      "cell_type": "code",
      "metadata": {
        "id": "ZgGKOH1_NMjC"
      },
      "source": [
        "import numpy as np\n",
        "import matplotlib.pyplot as plt\n",
        "import seaborn\n",
        "from mpl_toolkits.mplot3d import Axes3D"
      ],
      "execution_count": null,
      "outputs": []
    },
    {
      "cell_type": "code",
      "metadata": {
        "id": "6mInQ8-nAEFz"
      },
      "source": [
        "class Hidden_Markov_Model:\n",
        "\n",
        "  def __init__(self, model_transition_matrix, initial_state_matrix, neighbourhood, rate):\n",
        "    self.transition_matrix = model_transition_matrix\n",
        "    self.current_state = initial_state_matrix\n",
        "    self.obstacle = neighbourhood\n",
        "    self.no_of_states = len(initial_state_matrix)\n",
        "    self.sensor_error_rate = rate\n",
        "    self.direction = {'N' : 0, 'S' : 1, 'W' : 2, 'E' : 3}\n",
        "\n",
        "  def create_observation_matrix(self, observation):\n",
        "    sensor_reading_probability = []\n",
        "    for i in range (self.no_of_states):\n",
        "      cur_reading = [False] * 4\n",
        "      for j in range(4):\n",
        "        cur_reading[j] = (int(observation[j]) == 1)\n",
        "      no_of_discrepancy = 0;\n",
        "      for j in range(4):\n",
        "        if cur_reading[j] != self.obstacle[i][j]:\n",
        "          no_of_discrepancy += 1\n",
        "      probability = ((1 - self.sensor_error_rate) ** (4 - no_of_discrepancy)) * (self.sensor_error_rate ** no_of_discrepancy)\n",
        "      sensor_reading_probability.append(probability)\n",
        "      observation_matrix = np.zeros((len(sensor_reading_probability), len(sensor_reading_probability)))\n",
        "      np.fill_diagonal(observation_matrix, sensor_reading_probability)\n",
        "    return observation_matrix\n",
        "\n",
        "  def get_emission_probabilities(self):\n",
        "    emission_probability_list = [[None] * 16 for _ in range(self.no_of_states)]\n",
        "    cur_obs = [None] * 4\n",
        "    for i in range(16):\n",
        "      observation = i\n",
        "      cur_obs[3] = observation & 1\n",
        "      cur_obs[2] = (observation >> 1) & 1 \n",
        "      cur_obs[1] = (observation >> 2) & 1\n",
        "      cur_obs[0] = (observation >> 3) & 1\n",
        "      for j in range(self.no_of_states):\n",
        "        no_of_discrepancy = 0\n",
        "        for k in range(4):\n",
        "          if cur_obs[k] != self.obstacle[j][k]:\n",
        "            no_of_discrepancy += 1\n",
        "        probability = ((1 - self.sensor_error_rate) ** (4 - no_of_discrepancy)) * (self.sensor_error_rate ** no_of_discrepancy)\n",
        "        emission_probability_list[j][i] = probability\n",
        "    emission_probability = np.array(emission_probability_list)\n",
        "    return emission_probability\n",
        "\n",
        "  def viterbi_algorithm(self, initial_state, emission_probabilities, observation_sequence):\n",
        "    I = self.transition_matrix.shape[0]\n",
        "    N = len(observation_sequence)\n",
        "    temp_D = np.zeros((I, N))\n",
        "    temp_E = np.zeros((I, N-1)).astype(np.int32)\n",
        "    temp_D[:, 0] = np.multiply(initial_state, emission_probabilities[:, 0])\n",
        "    for n in range(1, N):\n",
        "        for i in range(I):\n",
        "            temp_product = np.multiply(self.transition_matrix[:, i], temp_D[:, n-1])\n",
        "            temp_D[i, n] = np.max(temp_product) * emission_probabilities[i, observation_sequence[n]]\n",
        "            temp_E[i, n-1] = np.argmax(temp_product)\n",
        "    S_opt = np.zeros(N).astype(np.int32)\n",
        "    S_opt[-1] = np.argmax(temp_D[:, -1])\n",
        "    for n in range(N-2, 0, -1):\n",
        "        S_opt[n] = temp_E[int(S_opt[n+1]), n]\n",
        "    return S_opt, temp_D, temp_E\n",
        "\n",
        "  def filtering(self, observation_matrix):\n",
        "    new_state = np.dot(observation_matrix, np.dot(self.transition_matrix, self.current_state))\n",
        "    normalized_state = new_state / np.sum(new_state)\n",
        "    self.current_state = normalized_state\n",
        "    max_prob_val = 0.0\n",
        "    for i in range(self.no_of_states):\n",
        "      if normalized_state[i] > max_prob_val:\n",
        "        likely_state = i\n",
        "        max_prob_val = normalized_state[i]\n",
        "    return likely_state, max_prob_val\n",
        "\n",
        "  def prediction(self):\n",
        "    new_state = np.dot(self.transition_matrix, self.current_state)\n",
        "    normalized_state = new_state / np.sum(new_state)\n",
        "    self.current_state = normalized_state\n",
        "    return normalized_state\n",
        "        \n",
        "  \n"
      ],
      "execution_count": 36,
      "outputs": []
    },
    {
      "cell_type": "code",
      "metadata": {
        "id": "1Syu8tstNXHc"
      },
      "source": [
        "grid_size = 42\n",
        "obstacle_ratio = 0.3\n",
        "count_legal_grid = 0\n",
        "grid = [[None] * grid_size for _ in range (grid_size)]\n",
        "for i in range(grid_size):\n",
        "  for j in range(grid_size):\n",
        "    if np.random.rand() <= obstacle_ratio:\n",
        "      grid[i][j] = 1\n",
        "    else:\n",
        "      grid[i][j] = 0\n",
        "      count_legal_grid += 1\n",
        "  #print(grid[i])"
      ],
      "execution_count": null,
      "outputs": []
    },
    {
      "cell_type": "code",
      "metadata": {
        "id": "nqEf5IUK5xG8"
      },
      "source": [
        "no_of_squares = grid_size * grid_size\n",
        "neighbours = [[] for _ in range (no_of_squares)]\n",
        "obstacle = [[True] * 4 for _ in range (no_of_squares)]\n",
        "for i in range(grid_size):\n",
        "  for j in range(grid_size):\n",
        "    if grid[i][j] == 0:\n",
        "      index = i * grid_size + j\n",
        "      if i > 0 and grid[i-1][j] == 0:\n",
        "          neighbours[index].append((i-1) * grid_size + j)\n",
        "          obstacle[i][0] = False\n",
        "      if i < grid_size - 1 and grid[i+1][j] == 0:\n",
        "          neighbours[index].append((i+1) * grid_size + j)\n",
        "          obstacle[i][1] = False\n",
        "      if j > 0 and grid[i][j-1] == 0:\n",
        "          neighbours[index].append(i * grid_size + (j-1))\n",
        "          obstacle[i][2] = False\n",
        "      if j < grid_size - 1 and grid[i][j+1] == 0:\n",
        "          neighbours[index].append(i * grid_size + (j+1))\n",
        "          obstacle[i][3] = False\n",
        "    #print(neighbours[i*grid_size+j])"
      ],
      "execution_count": null,
      "outputs": []
    },
    {
      "cell_type": "code",
      "metadata": {
        "id": "eMCNtjMkRJUf"
      },
      "source": [
        "transition_list = [[None] * no_of_squares for _ in range (no_of_squares)]\n",
        "for i in range (no_of_squares):\n",
        "  for j in range (no_of_squares):\n",
        "    transition_list[i][j] = 0\n",
        "  if len(neighbours[i]) != 0:\n",
        "    for j in neighbours[i]:\n",
        "      transition_list[i][j] = 1 / len(neighbours[i])\n",
        "  #print(transition_list[i])\n"
      ],
      "execution_count": null,
      "outputs": []
    },
    {
      "cell_type": "code",
      "metadata": {
        "id": "tab-DsIYa_1Q"
      },
      "source": [
        "initial_state = [1 / no_of_squares] * no_of_squares\n",
        "transition_matrix = np.array(transition_list)\n",
        "initial_state_matrix = np.array(initial_state)\n",
        "initial_state_matrix = initial_state_matrix.transpose()\n",
        "sensor_error_rate = 0.2"
      ],
      "execution_count": null,
      "outputs": []
    },
    {
      "cell_type": "code",
      "metadata": {
        "id": "2UCEBrBi_zUy",
        "colab": {
          "base_uri": "https://localhost:8080/"
        },
        "outputId": "19a1455b-b829-4b90-b1e0-36333bd46ebf"
      },
      "source": [
        "# Assume Sensor Error Rate = 0.2\n",
        "model = Hidden_Markov_Model(transition_matrix, initial_state_matrix, obstacle, 0.2)\n",
        "direction = {'N' : 0, 'S' : 1, 'W' : 2, 'E' : 3}\n",
        "observation_sequence = [\"1110\", \"1010\"]\n",
        "# Given the observation instance, find out the robot location\n",
        "for observation in observation_sequence:\n",
        "  observation_matrix = model.create_observation_matrix(observation)\n",
        "  cur_state, probability = model.filtering(observation_matrix)\n",
        "  print(\"Current state : \", end = \"\")\n",
        "  print(cur_state)\n",
        "  print(\"Coordinate : \", end= \"\")\n",
        "  print(cur_state // grid_size, end = \" \")\n",
        "  print(cur_state % grid_size)\n",
        "  print(\"Probability : \", end = \"\")\n",
        "  print(probability)\n",
        "  print(\"===============================================\")"
      ],
      "execution_count": 37,
      "outputs": [
        {
          "output_type": "stream",
          "text": [
            "Current state : 42\n",
            "Coordinate : 1 0\n",
            "Probability : 0.0008467848637205608\n",
            "===============================================\n",
            "Current state : 0\n",
            "Coordinate : 0 0\n",
            "Probability : 0.0017950714728825411\n",
            "===============================================\n"
          ],
          "name": "stdout"
        }
      ]
    },
    {
      "cell_type": "code",
      "metadata": {
        "colab": {
          "base_uri": "https://localhost:8080/"
        },
        "id": "ytOI6dCEhAiF",
        "outputId": "fbd948a7-cd96-43e6-9427-3ac9890c606e"
      },
      "source": [
        "# given the observation sequence, what is the most likely state sequence\n",
        "observation_sequence = [\"1110\", \"1010\", \"1110\", \"1011\", \"1010\", \"0001\", \"1111\", \"0000\"]\n",
        "observation_list = []\n",
        "for element in observation_sequence:\n",
        "  num = 0\n",
        "  for i in range(4):\n",
        "    num = num * 2 + int(element[i])\n",
        "  observation_list.append(num)\n",
        "emission_matrix = model.get_emission_probabilities()\n",
        "most_likely_state_sequence, accumulated_probability_matrix, backtracking_matrix = model.viterbi_algorithm(initial_state_matrix, emission_matrix, observation_list)\n",
        "print(most_likely_state_sequence)\n",
        "#print(accumulated_probability_matrix)\n",
        "#print(backtracking_matrix)"
      ],
      "execution_count": 40,
      "outputs": [
        {
          "output_type": "stream",
          "text": [
            "[  0  31  73 115  73  31  73  31]\n"
          ],
          "name": "stdout"
        }
      ]
    }
  ]
}